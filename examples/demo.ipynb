{
 "cells": [
  {
   "cell_type": "code",
   "execution_count": null,
   "id": "02094992-31e6-4e7b-b2c4-14a6896f1585",
   "metadata": {},
   "outputs": [],
   "source": [
    "import pandas as pd\n",
    "import pyfolio as pf\n",
    "import os\n",
    "import warnings\n",
    "warnings.filterwarnings(\"ignore\")\n",
    "# 加载数据\n",
    "pf_path = os.path.dirname(pf.__file__)\n",
    "df = pd.read_csv(pf_path+\"/datas/基准收益率和日收益率序列.csv\",index_col = 0)\n",
    "df.index = pd.to_datetime(df.index)\n",
    "positions = pd.read_csv(pf_path+\"/datas/positions.csv\",index_col = 0)\n",
    "positions.index = pd.to_datetime(positions.index)\n",
    "pf.create_full_tear_sheet(df['returns'],benchmark_rets=df['benchmark_rets'],positions= positions)\n"
   ]
  },
  {
   "cell_type": "code",
   "execution_count": null,
   "id": "0cc10bed-31f9-4a5c-877d-d5098422a50a",
   "metadata": {},
   "outputs": [],
   "source": []
  }
 ],
 "metadata": {
  "kernelspec": {
   "display_name": "Python 3 (ipykernel)",
   "language": "python",
   "name": "python3"
  },
  "language_info": {
   "codemirror_mode": {
    "name": "ipython",
    "version": 3
   },
   "file_extension": ".py",
   "mimetype": "text/x-python",
   "name": "python",
   "nbconvert_exporter": "python",
   "pygments_lexer": "ipython3",
   "version": "3.11.8"
  }
 },
 "nbformat": 4,
 "nbformat_minor": 5
}
